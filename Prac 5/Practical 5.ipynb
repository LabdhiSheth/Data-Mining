{
 "cells": [
  {
   "cell_type": "markdown",
   "metadata": {},
   "source": [
    "# 18BCE101\n",
    "\n",
    "## DM prac 5\n",
    "\n",
    "__AIM:__\n",
    "\n",
    "Implement the Natural partitioning (apply 3-4-5 rule) algorithm in C/C++ for generating concept hierarchy (upto two levels) for the following data (given the attribute ‘marks’ of some students) : 32, 38, 48, 91, 46, 37, 22, 69, 78, 82, 33, 49, 55, 66, 84, 86, 67, 80, 79, 44."
   ]
  },
  {
   "cell_type": "markdown",
   "metadata": {},
   "source": [
    "concepy hierarchy - continuos to nominal values\n",
    "\n",
    "marks in ranks\n",
    "\n",
    "salary - range of salariees done\n",
    "\n",
    "example - address attribute - region county/state/city/area etc\n",
    "\n",
    "3-4-5 rule - apply two levels only\n",
    "\n",
    "3-4-5 rule can be used to segment numeric data into\n",
    "relatively uniform, “natural” intervals.\n",
    "\n",
    "􀂄 If an interval covers 3, 6, 7 or 9 distinct values at the\n",
    "most significant digit, partition the range into 3 equiwidth\n",
    "intervals\n",
    "\n",
    "􀂄 If it covers 2, 4, or 8 distinct values at the most\n",
    "significant digit, partition the range into 4 intervals\n",
    "\n",
    "􀂄 If it covers 1, 5, or 10 distinct values at the most\n",
    "significant digit, partition the range into 5 intervals\n",
    "\n",
    "find real world application of it"
   ]
  },
  {
   "cell_type": "code",
   "execution_count": 78,
   "metadata": {},
   "outputs": [],
   "source": [
    "#importing required libraries\n",
    "\n",
    "import pandas as pd"
   ]
  },
  {
   "cell_type": "markdown",
   "metadata": {},
   "source": [
    "## Given example"
   ]
  },
  {
   "cell_type": "code",
   "execution_count": 79,
   "metadata": {},
   "outputs": [
    {
     "name": "stdout",
     "output_type": "stream",
     "text": [
      "[22, 32, 33, 37, 38, 44, 46, 48, 49, 55, 66, 67, 69, 78, 79, 80, 82, 84, 86, 91]\n",
      "6\n"
     ]
    }
   ],
   "source": [
    "#finding most significant digit\n",
    "\n",
    "data = [32, 38, 48, 91, 46, 37, 22, 69, 78, 82, 33, 49, 55, 66, 84, 86, 67, 80, 79, 44]\n",
    "\n",
    "data.sort()\n",
    "print(data)\n",
    "length = len(data)\n",
    "min_val = data[0]\n",
    "max_val = data[length - 1]\n",
    "\n",
    "msd = int(str(max_val - min_val)[0])\n",
    "print(msd)"
   ]
  },
  {
   "cell_type": "code",
   "execution_count": 80,
   "metadata": {},
   "outputs": [
    {
     "name": "stdout",
     "output_type": "stream",
     "text": [
      "3\n"
     ]
    }
   ],
   "source": [
    "#finding the number of partitions\n",
    "\n",
    "rule1 = [3,6,7,9]\n",
    "rule2 = [2,4,8]\n",
    "rule3 = [1,5,10]\n",
    "partition = 0\n",
    "\n",
    "if msd in rule1:\n",
    "    partition = 3\n",
    "elif msd in rule2:\n",
    "    partition = 4\n",
    "else:\n",
    "    partition = 5\n",
    "    \n",
    "print(partition)"
   ]
  },
  {
   "cell_type": "code",
   "execution_count": 81,
   "metadata": {},
   "outputs": [
    {
     "name": "stdout",
     "output_type": "stream",
     "text": [
      "Level 1\n",
      "\n",
      "----------------------------------------------------------------------------------------------------\n",
      "\n",
      "Partition 1 made from 22 to 45\n",
      "Partition 2 made from 45 to 68\n",
      "Partition 3 made from 68 to 91\n",
      "\n",
      "Intervals are : \n",
      "\n",
      "[22, 32, 33, 37, 38, 44]\n",
      "\n",
      "[46, 48, 49, 55, 66, 67]\n",
      "\n",
      "[69, 78, 79, 80, 82, 84, 86, 91]\n",
      "\n",
      "----------------------------------------------------------------------------------------------------\n",
      "\n",
      "Level 2\n",
      "\n",
      "----------------------------------------------------------------------------------------------------\n",
      "\n",
      "Sub part 1\n",
      "Partition 1 made from 22 to 30\n",
      "Partition 2 made from 30 to 38\n",
      "Partition 3 made from 38 to 46\n",
      "\n",
      "Intervals are : \n",
      "\n",
      "[22]\n",
      "\n",
      "[32, 33, 37, 38]\n",
      "\n",
      "[44]\n",
      "\n",
      "----------------------------------------------------------------------------------------------------\n",
      "\n",
      "Sub part 2\n",
      "Partition 1 made from 45 to 53\n",
      "Partition 2 made from 53 to 61\n",
      "Partition 3 made from 61 to 69\n",
      "\n",
      "Intervals are : \n",
      "\n",
      "[46, 48, 49]\n",
      "\n",
      "[55]\n",
      "\n",
      "[66, 67]\n",
      "\n",
      "----------------------------------------------------------------------------------------------------\n",
      "\n",
      "Sub part 3\n",
      "Partition 1 made from 68 to 76\n",
      "Partition 2 made from 76 to 84\n",
      "Partition 3 made from 84 to 92\n",
      "\n",
      "Intervals are : \n",
      "\n",
      "[69]\n",
      "\n",
      "[78, 79, 80, 82, 84]\n",
      "\n",
      "[86, 91]\n"
     ]
    }
   ],
   "source": [
    "def natural_partitioning(data , partition, min_val, max_val):\n",
    "    \n",
    "    ranges = [min_val]\n",
    "    start = round(min_val)\n",
    "    end = round((max_val - min_val) / partition)\n",
    "    \n",
    "    intervals = []\n",
    "    [intervals.append([]) for i in range(partition)]\n",
    "    x = 0\n",
    "    \n",
    "    print(\"Partition {} made from {} to {}\".format(x+1, start, start+end))\n",
    "    for i in data:\n",
    "        if i in range(start - 1, start + end + 1):\n",
    "            intervals[x].append(i)\n",
    "        else:\n",
    "            start += end\n",
    "            ranges.append(start)\n",
    "            x += 1\n",
    "            intervals[x].append(i)\n",
    "            print(\"Partition {} made from {} to {}\".format(x+1, start, start+end))\n",
    "            \n",
    "    ranges.append(start + end)\n",
    "    print(\"\\nIntervals are : \", *intervals, sep=\"\\n\\n\")\n",
    "    return intervals, ranges\n",
    "\n",
    "print(\"Level 1\")\n",
    "print(\"\\n----------------------------------------------------------------------------------------------------\\n\")\n",
    "intervals_level1, ranges = natural_partitioning(data, partition, min_val, max_val)\n",
    "\n",
    "print(\"\\n----------------------------------------------------------------------------------------------------\\n\")\n",
    "print(\"Level 2\")\n",
    "intervals_level2 = []\n",
    "sub_ranges = []\n",
    "y = 0\n",
    "for i in intervals_level1:\n",
    "    print(\"\\n----------------------------------------------------------------------------------------------------\\n\")\n",
    "    print(\"Sub part \" + str(y+1))\n",
    "    a, b = natural_partitioning(i, partition, ranges[y], ranges[y+1])\n",
    "    intervals_level2.append(a)\n",
    "    sub_ranges.append(b)\n",
    "    y += 1"
   ]
  },
  {
   "cell_type": "markdown",
   "metadata": {},
   "source": [
    "## Real word example"
   ]
  },
  {
   "cell_type": "code",
   "execution_count": 82,
   "metadata": {},
   "outputs": [
    {
     "data": {
      "text/html": [
       "<div>\n",
       "<style scoped>\n",
       "    .dataframe tbody tr th:only-of-type {\n",
       "        vertical-align: middle;\n",
       "    }\n",
       "\n",
       "    .dataframe tbody tr th {\n",
       "        vertical-align: top;\n",
       "    }\n",
       "\n",
       "    .dataframe thead th {\n",
       "        text-align: right;\n",
       "    }\n",
       "</style>\n",
       "<table border=\"1\" class=\"dataframe\">\n",
       "  <thead>\n",
       "    <tr style=\"text-align: right;\">\n",
       "      <th></th>\n",
       "      <th>Gender</th>\n",
       "      <th>Height</th>\n",
       "      <th>Weight</th>\n",
       "      <th>Index</th>\n",
       "    </tr>\n",
       "  </thead>\n",
       "  <tbody>\n",
       "    <tr>\n",
       "      <th>0</th>\n",
       "      <td>Male</td>\n",
       "      <td>174</td>\n",
       "      <td>96</td>\n",
       "      <td>4</td>\n",
       "    </tr>\n",
       "    <tr>\n",
       "      <th>1</th>\n",
       "      <td>Male</td>\n",
       "      <td>189</td>\n",
       "      <td>87</td>\n",
       "      <td>2</td>\n",
       "    </tr>\n",
       "    <tr>\n",
       "      <th>2</th>\n",
       "      <td>Female</td>\n",
       "      <td>185</td>\n",
       "      <td>110</td>\n",
       "      <td>4</td>\n",
       "    </tr>\n",
       "    <tr>\n",
       "      <th>3</th>\n",
       "      <td>Female</td>\n",
       "      <td>195</td>\n",
       "      <td>104</td>\n",
       "      <td>3</td>\n",
       "    </tr>\n",
       "    <tr>\n",
       "      <th>4</th>\n",
       "      <td>Male</td>\n",
       "      <td>149</td>\n",
       "      <td>61</td>\n",
       "      <td>3</td>\n",
       "    </tr>\n",
       "  </tbody>\n",
       "</table>\n",
       "</div>"
      ],
      "text/plain": [
       "   Gender  Height  Weight  Index\n",
       "0    Male     174      96      4\n",
       "1    Male     189      87      2\n",
       "2  Female     185     110      4\n",
       "3  Female     195     104      3\n",
       "4    Male     149      61      3"
      ]
     },
     "execution_count": 82,
     "metadata": {},
     "output_type": "execute_result"
    }
   ],
   "source": [
    "df = pd.read_csv('500_Person_Gender_Height_Weight_Index.csv')\n",
    "df.head()"
   ]
  },
  {
   "cell_type": "code",
   "execution_count": 83,
   "metadata": {},
   "outputs": [
    {
     "name": "stdout",
     "output_type": "stream",
     "text": [
      "[140, 140, 140, 140, 140, 140, 140, 140, 141, 141, 141, 141, 141, 141, 141, 141, 142, 142, 142, 142, 142, 142, 142, 142, 142, 143, 143, 143, 144, 144, 144, 144, 144, 145, 145, 145, 145, 145, 145, 145, 145, 145, 146, 146, 146, 146, 146, 146, 146, 146, 146, 147, 147, 147, 147, 147, 147, 147, 148, 148, 148, 148, 148, 149, 149, 149, 149, 149, 150, 150, 150, 150, 150, 150, 150, 150, 150, 150, 150, 151, 151, 151, 151, 151, 151, 151, 151, 152, 152, 152, 152, 152, 152, 152, 152, 153, 153, 153, 153, 153, 153, 153, 153, 153, 153, 154, 154, 154, 154, 154, 154, 154, 154, 154, 154, 155, 155, 155, 155, 155, 155, 156, 156, 156, 156, 156, 156, 157, 157, 157, 157, 157, 157, 157, 157, 157, 157, 158, 158, 158, 158, 158, 159, 159, 159, 159, 159, 159, 159, 159, 159, 160, 160, 160, 160, 160, 160, 160, 161, 161, 161, 161, 161, 161, 161, 161, 161, 162, 162, 162, 162, 162, 162, 162, 162, 162, 163, 163, 163, 163, 163, 163, 163, 163, 164, 164, 164, 164, 164, 164, 164, 164, 164, 165, 165, 165, 165, 165, 165, 165, 165, 165, 165, 166, 166, 166, 166, 166, 166, 166, 166, 166, 167, 167, 167, 167, 167, 167, 167, 167, 167, 168, 168, 168, 168, 168, 168, 168, 168, 168, 168, 168, 168, 168, 169, 169, 169, 169, 169, 169, 169, 169, 169, 169, 170, 170, 170, 170, 170, 170, 171, 171, 171, 171, 171, 171, 171, 171, 172, 172, 172, 172, 172, 172, 172, 172, 172, 172, 172, 172, 173, 173, 173, 173, 174, 174, 174, 174, 174, 174, 174, 174, 175, 175, 175, 175, 176, 176, 176, 176, 176, 176, 176, 177, 177, 177, 177, 177, 177, 177, 177, 177, 178, 178, 178, 178, 178, 178, 178, 178, 178, 178, 178, 178, 178, 179, 179, 179, 179, 179, 179, 179, 179, 179, 179, 179, 179, 179, 179, 180, 180, 180, 180, 180, 180, 180, 180, 181, 181, 181, 181, 181, 181, 181, 181, 181, 181, 181, 182, 182, 182, 182, 182, 182, 182, 182, 182, 182, 182, 182, 183, 183, 183, 183, 183, 183, 183, 183, 183, 183, 183, 184, 184, 184, 184, 184, 184, 184, 184, 184, 184, 184, 184, 185, 185, 185, 185, 185, 185, 185, 185, 185, 185, 185, 186, 186, 186, 186, 186, 186, 186, 186, 186, 187, 187, 187, 187, 187, 187, 187, 187, 187, 187, 187, 187, 187, 187, 188, 188, 188, 188, 188, 188, 188, 188, 188, 188, 188, 188, 188, 188, 188, 189, 189, 189, 189, 189, 190, 190, 190, 190, 190, 190, 190, 190, 190, 191, 191, 191, 191, 191, 191, 191, 192, 192, 192, 192, 192, 192, 193, 193, 193, 193, 193, 194, 194, 194, 194, 194, 195, 195, 195, 195, 195, 195, 195, 195, 195, 195, 196, 196, 196, 196, 196, 196, 197, 197, 197, 197, 197, 197, 197, 198, 198, 198, 198, 198, 199, 199, 199]\n",
      "5\n"
     ]
    }
   ],
   "source": [
    "datadf = df['Height'].tolist()\n",
    "\n",
    "datadf.sort()\n",
    "print(datadf)\n",
    "length = len(datadf)\n",
    "min_val = datadf[0]\n",
    "max_val = datadf[length - 1]\n",
    "\n",
    "msd = int(str(max_val - min_val)[0])\n",
    "print(msd)"
   ]
  },
  {
   "cell_type": "code",
   "execution_count": 84,
   "metadata": {},
   "outputs": [
    {
     "name": "stdout",
     "output_type": "stream",
     "text": [
      "5\n"
     ]
    }
   ],
   "source": [
    "rule1 = [3,6,7,9]\n",
    "rule2 = [2,4,8]\n",
    "rule3 = [1,5,10]\n",
    "partition = 0\n",
    "\n",
    "if msd in rule1:\n",
    "    partition = 3\n",
    "elif msd in rule2:\n",
    "    partition = 4\n",
    "else:\n",
    "    partition = 5\n",
    "    \n",
    "print(partition)"
   ]
  },
  {
   "cell_type": "code",
   "execution_count": 85,
   "metadata": {},
   "outputs": [
    {
     "name": "stdout",
     "output_type": "stream",
     "text": [
      "Level 1\n",
      "\n",
      "----------------------------------------------------------------------------------------------------\n",
      "\n",
      "Partition 1 made from 140 to 152\n",
      "Partition 2 made from 152 to 164\n",
      "Partition 3 made from 164 to 176\n",
      "Partition 4 made from 176 to 188\n",
      "Partition 5 made from 188 to 200\n",
      "\n",
      "Intervals are : \n",
      "\n",
      "[140, 140, 140, 140, 140, 140, 140, 140, 141, 141, 141, 141, 141, 141, 141, 141, 142, 142, 142, 142, 142, 142, 142, 142, 142, 143, 143, 143, 144, 144, 144, 144, 144, 145, 145, 145, 145, 145, 145, 145, 145, 145, 146, 146, 146, 146, 146, 146, 146, 146, 146, 147, 147, 147, 147, 147, 147, 147, 148, 148, 148, 148, 148, 149, 149, 149, 149, 149, 150, 150, 150, 150, 150, 150, 150, 150, 150, 150, 150, 151, 151, 151, 151, 151, 151, 151, 151, 152, 152, 152, 152, 152, 152, 152, 152]\n",
      "\n",
      "[153, 153, 153, 153, 153, 153, 153, 153, 153, 153, 154, 154, 154, 154, 154, 154, 154, 154, 154, 154, 155, 155, 155, 155, 155, 155, 156, 156, 156, 156, 156, 156, 157, 157, 157, 157, 157, 157, 157, 157, 157, 157, 158, 158, 158, 158, 158, 159, 159, 159, 159, 159, 159, 159, 159, 159, 160, 160, 160, 160, 160, 160, 160, 161, 161, 161, 161, 161, 161, 161, 161, 161, 162, 162, 162, 162, 162, 162, 162, 162, 162, 163, 163, 163, 163, 163, 163, 163, 163, 164, 164, 164, 164, 164, 164, 164, 164, 164]\n",
      "\n",
      "[165, 165, 165, 165, 165, 165, 165, 165, 165, 165, 166, 166, 166, 166, 166, 166, 166, 166, 166, 167, 167, 167, 167, 167, 167, 167, 167, 167, 168, 168, 168, 168, 168, 168, 168, 168, 168, 168, 168, 168, 168, 169, 169, 169, 169, 169, 169, 169, 169, 169, 169, 170, 170, 170, 170, 170, 170, 171, 171, 171, 171, 171, 171, 171, 171, 172, 172, 172, 172, 172, 172, 172, 172, 172, 172, 172, 172, 173, 173, 173, 173, 174, 174, 174, 174, 174, 174, 174, 174, 175, 175, 175, 175, 176, 176, 176, 176, 176, 176, 176]\n",
      "\n",
      "[177, 177, 177, 177, 177, 177, 177, 177, 177, 178, 178, 178, 178, 178, 178, 178, 178, 178, 178, 178, 178, 178, 179, 179, 179, 179, 179, 179, 179, 179, 179, 179, 179, 179, 179, 179, 180, 180, 180, 180, 180, 180, 180, 180, 181, 181, 181, 181, 181, 181, 181, 181, 181, 181, 181, 182, 182, 182, 182, 182, 182, 182, 182, 182, 182, 182, 182, 183, 183, 183, 183, 183, 183, 183, 183, 183, 183, 183, 184, 184, 184, 184, 184, 184, 184, 184, 184, 184, 184, 184, 185, 185, 185, 185, 185, 185, 185, 185, 185, 185, 185, 186, 186, 186, 186, 186, 186, 186, 186, 186, 187, 187, 187, 187, 187, 187, 187, 187, 187, 187, 187, 187, 187, 187, 188, 188, 188, 188, 188, 188, 188, 188, 188, 188, 188, 188, 188, 188, 188]\n",
      "\n",
      "[189, 189, 189, 189, 189, 190, 190, 190, 190, 190, 190, 190, 190, 190, 191, 191, 191, 191, 191, 191, 191, 192, 192, 192, 192, 192, 192, 193, 193, 193, 193, 193, 194, 194, 194, 194, 194, 195, 195, 195, 195, 195, 195, 195, 195, 195, 195, 196, 196, 196, 196, 196, 196, 197, 197, 197, 197, 197, 197, 197, 198, 198, 198, 198, 198, 199, 199, 199]\n"
     ]
    }
   ],
   "source": [
    "print(\"Level 1\")\n",
    "print(\"\\n----------------------------------------------------------------------------------------------------\\n\")\n",
    "intervals_level1, ranges = natural_partitioning(datadf, partition, min_val, max_val)"
   ]
  },
  {
   "cell_type": "code",
   "execution_count": 86,
   "metadata": {},
   "outputs": [
    {
     "data": {
      "text/plain": [
       "[140, 152, 164, 176, 188, 200]"
      ]
     },
     "execution_count": 86,
     "metadata": {},
     "output_type": "execute_result"
    }
   ],
   "source": [
    "ranges"
   ]
  },
  {
   "cell_type": "markdown",
   "metadata": {},
   "source": [
    "## Conclusion\n",
    "\n",
    "Data discretization is the process of converting continuous values of an attribute into categorical data or partitions or intervals.\n",
    "Discretization helps reducing data size by reducing number of possible values. Instead of storing every observation we can only store partition range in which each observation falls. One of the easiest ways to partition numeric values is using intuitive (natural) partitioning.\n"
   ]
  }
 ],
 "metadata": {
  "kernelspec": {
   "display_name": "Python 3",
   "language": "python",
   "name": "python3"
  },
  "language_info": {
   "codemirror_mode": {
    "name": "ipython",
    "version": 3
   },
   "file_extension": ".py",
   "mimetype": "text/x-python",
   "name": "python",
   "nbconvert_exporter": "python",
   "pygments_lexer": "ipython3",
   "version": "3.7.4"
  }
 },
 "nbformat": 4,
 "nbformat_minor": 2
}
