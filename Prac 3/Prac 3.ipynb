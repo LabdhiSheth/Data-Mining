{
 "cells": [
  {
   "cell_type": "markdown",
   "metadata": {},
   "source": [
    "# 18BCE101\n",
    "\n",
    "## DM prac 3\n",
    "\n",
    "__AIM:__\n",
    "\n",
    "Implement suitable method (using concept of Quartile) in C/C++/Java/Python for detection of  outliers present in the following data set  : also take steps of remove these identified outliers from the given data set. \n",
    "Name    Value\n",
    "\n",
    "A    45\n",
    "\n",
    "B    37\n",
    "\n",
    "C    59\n",
    "\n",
    "D    150\n",
    "\n",
    "E    47\n",
    "\n",
    "F    39\n",
    "\n",
    "G    5\n",
    "\n",
    "H    43\n",
    "\n",
    "I    52\n",
    "\n",
    "J    100\n",
    "\n",
    "Numeric Outlier\n",
    "\n",
    "This is the simplest, nonparametric outlier detection method in a one dimensional feature space. Here outliers are calculated by means of the IQR (InterQuartile Range).\n",
    "The first and the third quartile (Q1, Q3) are calculated. An outlier is then a data point xi that lies outside the interquartile range. That is:\n",
    "\n",
    "Using the interquartile multiplier value k=1.5, the range limits are the typical upper and lower whiskers of a box plot.\n",
    "\n",
    "\n",
    "xi > Q3 + k x IQR\n",
    "\n",
    "xi<Q1-k x IQR"
   ]
  },
  {
   "cell_type": "code",
   "execution_count": 1,
   "metadata": {},
   "outputs": [
    {
     "name": "stderr",
     "output_type": "stream",
     "text": [
      "C:\\Users\\labdh\\Anaconda3\\lib\\site-packages\\statsmodels\\tools\\_testing.py:19: FutureWarning: pandas.util.testing is deprecated. Use the functions in the public API at pandas.testing instead.\n",
      "  import pandas.util.testing as tm\n"
     ]
    }
   ],
   "source": [
    "#importing required libraries\n",
    "\n",
    "from matplotlib import pyplot as plt\n",
    "import pandas as pd\n",
    "import numpy as np\n",
    "import seaborn as sns\n",
    "from sklearn.model_selection import train_test_split\n",
    "from sklearn.linear_model import LinearRegression"
   ]
  },
  {
   "cell_type": "markdown",
   "metadata": {},
   "source": [
    "### Working on sample data"
   ]
  },
  {
   "cell_type": "code",
   "execution_count": 2,
   "metadata": {},
   "outputs": [
    {
     "name": "stdout",
     "output_type": "stream",
     "text": [
      "[5, 37, 39, 43, 45, 47, 52, 59, 100, 150]\n",
      "\n",
      "Lower bound 14.125\n",
      "First Quartile 40.0\n",
      "Third Quartile 57.25\n",
      "Upper bound 83.125\n",
      "Inter quartile range 17.25\n"
     ]
    }
   ],
   "source": [
    "data = [45, 37, 59, 150, 47, 39, 5, 43, 52, 100]\n",
    "data.sort()\n",
    "print(data)\n",
    "\n",
    "q1, q3= np.percentile(data,[25,75])\n",
    "iqr = q3 - q1\n",
    "lower_bound = q1 -(1.5 * iqr) \n",
    "upper_bound = q3 +(1.5 * iqr)\n",
    "\n",
    "print()\n",
    "print(\"Lower bound\",lower_bound)\n",
    "print(\"First Quartile\",q1)\n",
    "print(\"Third Quartile\",q3)\n",
    "print(\"Upper bound\",upper_bound)\n",
    "print(\"Inter quartile range\",iqr)"
   ]
  },
  {
   "cell_type": "code",
   "execution_count": 3,
   "metadata": {},
   "outputs": [
    {
     "data": {
      "image/png": "[encoded data removed]",
      "text/plain": [
       "<Figure size 720x504 with 1 Axes>"
      ]
     },
     "metadata": {
      "needs_background": "light"
     },
     "output_type": "display_data"
    }
   ],
   "source": [
    "fig = plt.figure(figsize =(10, 7)) \n",
    "plt.boxplot(data) \n",
    "plt.show() "
   ]
  },
  {
   "cell_type": "markdown",
   "metadata": {},
   "source": [
    "Thus we observe that points - (5, 100, 150) are the outliers"
   ]
  },
  {
   "cell_type": "code",
   "execution_count": 4,
   "metadata": {},
   "outputs": [
    {
     "name": "stdout",
     "output_type": "stream",
     "text": [
      "[37, 39, 43, 45, 47, 52, 59]\n"
     ]
    },
    {
     "data": {
      "image/png": "[encoded data removed]",
      "text/plain": [
       "<Figure size 720x504 with 1 Axes>"
      ]
     },
     "metadata": {
      "needs_background": "light"
     },
     "output_type": "display_data"
    }
   ],
   "source": [
    "#removing outliers\n",
    "\n",
    "data_clean = []\n",
    "\n",
    "for i in data:\n",
    "    if i >= lower_bound and i <= upper_bound:\n",
    "        data_clean.append(i)\n",
    "print(data_clean)\n",
    "\n",
    "fig = plt.figure(figsize =(10, 7)) \n",
    "plt.boxplot(data_clean) \n",
    "plt.show() "
   ]
  },
  {
   "cell_type": "markdown",
   "metadata": {},
   "source": [
    "### Real world example"
   ]
  },
  {
   "cell_type": "markdown",
   "metadata": {},
   "source": [
    "mtcars data produced by analysis performed for the Motor Trend, a magazine about the automobile industry. By looking at a data set of a collection of cars, we are interested in exploring the relationship between a set of variables and miles per gallon (MPG) as outcome."
   ]
  },
  {
   "cell_type": "code",
   "execution_count": 5,
   "metadata": {},
   "outputs": [],
   "source": [
    "#defining the function for outlier removal\n",
    "\n",
    "def outlier_treatment(datacolumn):\n",
    "    sorted(datacolumn)\n",
    "    Q1,Q3 = np.percentile(datacolumn , [25,75])\n",
    "    IQR = Q3 - Q1\n",
    "    lower_range = Q1 - (1.5 * IQR)\n",
    "    upper_range = Q3 + (1.5 * IQR)\n",
    "    return lower_range,upper_range"
   ]
  },
  {
   "cell_type": "code",
   "execution_count": 6,
   "metadata": {},
   "outputs": [
    {
     "name": "stdout",
     "output_type": "stream",
     "text": [
      "(32, 12)\n"
     ]
    },
    {
     "data": {
      "text/html": [
       "<div>\n",
       "<style scoped>\n",
       "    .dataframe tbody tr th:only-of-type {\n",
       "        vertical-align: middle;\n",
       "    }\n",
       "\n",
       "    .dataframe tbody tr th {\n",
       "        vertical-align: top;\n",
       "    }\n",
       "\n",
       "    .dataframe thead th {\n",
       "        text-align: right;\n",
       "    }\n",
       "</style>\n",
       "<table border=\"1\" class=\"dataframe\">\n",
       "  <thead>\n",
       "    <tr style=\"text-align: right;\">\n",
       "      <th></th>\n",
       "      <th>model</th>\n",
       "      <th>mpg</th>\n",
       "      <th>cyl</th>\n",
       "      <th>disp</th>\n",
       "      <th>hp</th>\n",
       "      <th>drat</th>\n",
       "      <th>wt</th>\n",
       "      <th>qsec</th>\n",
       "      <th>vs</th>\n",
       "      <th>am</th>\n",
       "      <th>gear</th>\n",
       "      <th>carb</th>\n",
       "    </tr>\n",
       "  </thead>\n",
       "  <tbody>\n",
       "    <tr>\n",
       "      <th>0</th>\n",
       "      <td>Mazda RX4</td>\n",
       "      <td>21.0</td>\n",
       "      <td>6</td>\n",
       "      <td>160.0</td>\n",
       "      <td>110</td>\n",
       "      <td>3.90</td>\n",
       "      <td>2.620</td>\n",
       "      <td>16.46</td>\n",
       "      <td>0</td>\n",
       "      <td>1</td>\n",
       "      <td>4</td>\n",
       "      <td>4</td>\n",
       "    </tr>\n",
       "    <tr>\n",
       "      <th>1</th>\n",
       "      <td>Mazda RX4 Wag</td>\n",
       "      <td>21.0</td>\n",
       "      <td>6</td>\n",
       "      <td>160.0</td>\n",
       "      <td>110</td>\n",
       "      <td>3.90</td>\n",
       "      <td>2.875</td>\n",
       "      <td>17.02</td>\n",
       "      <td>0</td>\n",
       "      <td>1</td>\n",
       "      <td>4</td>\n",
       "      <td>4</td>\n",
       "    </tr>\n",
       "    <tr>\n",
       "      <th>2</th>\n",
       "      <td>Datsun 710</td>\n",
       "      <td>22.8</td>\n",
       "      <td>4</td>\n",
       "      <td>108.0</td>\n",
       "      <td>93</td>\n",
       "      <td>3.85</td>\n",
       "      <td>2.320</td>\n",
       "      <td>18.61</td>\n",
       "      <td>1</td>\n",
       "      <td>1</td>\n",
       "      <td>4</td>\n",
       "      <td>1</td>\n",
       "    </tr>\n",
       "    <tr>\n",
       "      <th>3</th>\n",
       "      <td>Hornet 4 Drive</td>\n",
       "      <td>21.4</td>\n",
       "      <td>6</td>\n",
       "      <td>258.0</td>\n",
       "      <td>110</td>\n",
       "      <td>3.08</td>\n",
       "      <td>3.215</td>\n",
       "      <td>19.44</td>\n",
       "      <td>1</td>\n",
       "      <td>0</td>\n",
       "      <td>3</td>\n",
       "      <td>1</td>\n",
       "    </tr>\n",
       "    <tr>\n",
       "      <th>4</th>\n",
       "      <td>Hornet Sportabout</td>\n",
       "      <td>18.7</td>\n",
       "      <td>8</td>\n",
       "      <td>360.0</td>\n",
       "      <td>175</td>\n",
       "      <td>3.15</td>\n",
       "      <td>3.440</td>\n",
       "      <td>17.02</td>\n",
       "      <td>0</td>\n",
       "      <td>0</td>\n",
       "      <td>3</td>\n",
       "      <td>2</td>\n",
       "    </tr>\n",
       "  </tbody>\n",
       "</table>\n",
       "</div>"
      ],
      "text/plain": [
       "               model   mpg  cyl   disp   hp  drat     wt   qsec  vs  am  gear  \\\n",
       "0          Mazda RX4  21.0    6  160.0  110  3.90  2.620  16.46   0   1     4   \n",
       "1      Mazda RX4 Wag  21.0    6  160.0  110  3.90  2.875  17.02   0   1     4   \n",
       "2         Datsun 710  22.8    4  108.0   93  3.85  2.320  18.61   1   1     4   \n",
       "3     Hornet 4 Drive  21.4    6  258.0  110  3.08  3.215  19.44   1   0     3   \n",
       "4  Hornet Sportabout  18.7    8  360.0  175  3.15  3.440  17.02   0   0     3   \n",
       "\n",
       "   carb  \n",
       "0     4  \n",
       "1     4  \n",
       "2     1  \n",
       "3     1  \n",
       "4     2  "
      ]
     },
     "execution_count": 6,
     "metadata": {},
     "output_type": "execute_result"
    }
   ],
   "source": [
    "#loading the dataset\n",
    "\n",
    "df = pd.read_csv('mtcars.csv')\n",
    "print(df.shape)\n",
    "df.head()"
   ]
  },
  {
   "cell_type": "code",
   "execution_count": 7,
   "metadata": {},
   "outputs": [
    {
     "data": {
      "text/plain": [
       "<matplotlib.axes._subplots.AxesSubplot at 0x2b03af68448>"
      ]
     },
     "execution_count": 7,
     "metadata": {},
     "output_type": "execute_result"
    },
    {
     "data": {
      "image/png": "[encoded data removed]",
      "text/plain": [
       "<Figure size 432x288 with 1 Axes>"
      ]
     },
     "metadata": {
      "needs_background": "light"
     },
     "output_type": "display_data"
    }
   ],
   "source": [
    "#plotting the boxplot of the columns\n",
    "\n",
    "sns.boxplot(data = df)"
   ]
  },
  {
   "cell_type": "code",
   "execution_count": 8,
   "metadata": {},
   "outputs": [
    {
     "data": {
      "text/plain": [
       "{'whiskers': [<matplotlib.lines.Line2D at 0x2b03b173348>,\n",
       "  <matplotlib.lines.Line2D at 0x2b03b173b08>],\n",
       " 'caps': [<matplotlib.lines.Line2D at 0x2b03b173c48>,\n",
       "  <matplotlib.lines.Line2D at 0x2b03b177a88>],\n",
       " 'boxes': [<matplotlib.lines.Line2D at 0x2b03b170988>],\n",
       " 'medians': [<matplotlib.lines.Line2D at 0x2b03b177bc8>],\n",
       " 'fliers': [<matplotlib.lines.Line2D at 0x2b03b17ba08>],\n",
       " 'means': []}"
      ]
     },
     "execution_count": 8,
     "metadata": {},
     "output_type": "execute_result"
    },
    {
     "data": {
      "image/png": "[encoded data removed]",
      "text/plain": [
       "<Figure size 432x288 with 1 Axes>"
      ]
     },
     "metadata": {
      "needs_background": "light"
     },
     "output_type": "display_data"
    }
   ],
   "source": [
    "plt.boxplot(df.mpg)"
   ]
  },
  {
   "cell_type": "code",
   "execution_count": 9,
   "metadata": {},
   "outputs": [
    {
     "data": {
      "text/plain": [
       "{'whiskers': [<matplotlib.lines.Line2D at 0x2b03aeaca48>,\n",
       "  <matplotlib.lines.Line2D at 0x2b03aeac448>],\n",
       " 'caps': [<matplotlib.lines.Line2D at 0x2b03aea9908>,\n",
       "  <matplotlib.lines.Line2D at 0x2b03ae58288>],\n",
       " 'boxes': [<matplotlib.lines.Line2D at 0x2b03ae9f208>],\n",
       " 'medians': [<matplotlib.lines.Line2D at 0x2b03ae58508>],\n",
       " 'fliers': [<matplotlib.lines.Line2D at 0x2b03aedb2c8>],\n",
       " 'means': []}"
      ]
     },
     "execution_count": 9,
     "metadata": {},
     "output_type": "execute_result"
    },
    {
     "data": {
      "image/png": "[encoded data removed]",
      "text/plain": [
       "<Figure size 432x288 with 1 Axes>"
      ]
     },
     "metadata": {
      "needs_background": "light"
     },
     "output_type": "display_data"
    }
   ],
   "source": [
    "plt.boxplot(df.hp)"
   ]
  },
  {
   "cell_type": "code",
   "execution_count": 10,
   "metadata": {},
   "outputs": [
    {
     "data": {
      "text/plain": [
       "{'whiskers': [<matplotlib.lines.Line2D at 0x2b03b1d3f48>,\n",
       "  <matplotlib.lines.Line2D at 0x2b03b1d7988>],\n",
       " 'caps': [<matplotlib.lines.Line2D at 0x2b03b1d7ac8>,\n",
       "  <matplotlib.lines.Line2D at 0x2b03b1d7b48>],\n",
       " 'boxes': [<matplotlib.lines.Line2D at 0x2b03b1d3848>],\n",
       " 'medians': [<matplotlib.lines.Line2D at 0x2b03b1dcf48>],\n",
       " 'fliers': [<matplotlib.lines.Line2D at 0x2b03b1dcfc8>],\n",
       " 'means': []}"
      ]
     },
     "execution_count": 10,
     "metadata": {},
     "output_type": "execute_result"
    },
    {
     "data": {
      "image/png": "[encoded data removed]",
      "text/plain": [
       "<Figure size 432x288 with 1 Axes>"
      ]
     },
     "metadata": {
      "needs_background": "light"
     },
     "output_type": "display_data"
    }
   ],
   "source": [
    "plt.boxplot(df.wt)"
   ]
  },
  {
   "cell_type": "code",
   "execution_count": 12,
   "metadata": {},
   "outputs": [
    {
     "data": {
      "text/plain": [
       "0.5831506764829771"
      ]
     },
     "execution_count": 12,
     "metadata": {},
     "output_type": "execute_result"
    }
   ],
   "source": [
    "# select columns\n",
    "df = df[['mpg','cyl','disp','hp','wt']]\n",
    "\n",
    "# create a predictors and predictant variables\n",
    "X = df.drop('mpg',axis=1)\n",
    "y = df.mpg\n",
    "\n",
    "# 80% train split\n",
    "X_train, X_test, y_train, y_test = train_test_split(X, y, test_size=0.2)\n",
    "\n",
    "# using linear regression object call fit\n",
    "reg = LinearRegression().fit(X_train, y_train)\n",
    "\n",
    "# adjusted-rsquared value\n",
    "reg.score(X_test, y_test)"
   ]
  },
  {
   "cell_type": "code",
   "execution_count": 13,
   "metadata": {},
   "outputs": [
    {
     "name": "stdout",
     "output_type": "stream",
     "text": [
      "Lowerbound =  -28.75\n",
      "\n",
      "Upperbound 305.25\n"
     ]
    },
    {
     "data": {
      "text/plain": [
       "{'whiskers': [<matplotlib.lines.Line2D at 0x2b03b24cfc8>,\n",
       "  <matplotlib.lines.Line2D at 0x2b03b24cd08>],\n",
       " 'caps': [<matplotlib.lines.Line2D at 0x2b03b255ac8>,\n",
       "  <matplotlib.lines.Line2D at 0x2b03b259988>],\n",
       " 'boxes': [<matplotlib.lines.Line2D at 0x2b03b24cac8>],\n",
       " 'medians': [<matplotlib.lines.Line2D at 0x2b03b259ac8>],\n",
       " 'fliers': [<matplotlib.lines.Line2D at 0x2b03b25da88>],\n",
       " 'means': []}"
      ]
     },
     "execution_count": 13,
     "metadata": {},
     "output_type": "execute_result"
    },
    {
     "data": {
      "image/png": "[encoded data removed]",
      "text/plain": [
       "<Figure size 432x288 with 1 Axes>"
      ]
     },
     "metadata": {
      "needs_background": "light"
     },
     "output_type": "display_data"
    }
   ],
   "source": [
    "#outlier treatment of hp\n",
    "\n",
    "lowerbound, upperbound = outlier_treatment(df.hp)\n",
    "\n",
    "print(\"Lowerbound = \",lowerbound)\n",
    "print(\"\\nUpperbound\",upperbound)\n",
    "\n",
    "df = df[df['hp']< upperbound]\n",
    "\n",
    "plt.boxplot(df.hp)"
   ]
  },
  {
   "cell_type": "code",
   "execution_count": 14,
   "metadata": {},
   "outputs": [
    {
     "name": "stdout",
     "output_type": "stream",
     "text": [
      "Lowerbound =  0.8812500000000001\n",
      "\n",
      "Upperbound 5.311249999999999\n"
     ]
    },
    {
     "data": {
      "text/plain": [
       "{'whiskers': [<matplotlib.lines.Line2D at 0x2b03b2b7e08>,\n",
       "  <matplotlib.lines.Line2D at 0x2b03b2b7f48>],\n",
       " 'caps': [<matplotlib.lines.Line2D at 0x2b03b2badc8>,\n",
       "  <matplotlib.lines.Line2D at 0x2b03b2baf08>],\n",
       " 'boxes': [<matplotlib.lines.Line2D at 0x2b03b2b7388>],\n",
       " 'medians': [<matplotlib.lines.Line2D at 0x2b03b2bed48>],\n",
       " 'fliers': [<matplotlib.lines.Line2D at 0x2b03b2bee88>],\n",
       " 'means': []}"
      ]
     },
     "execution_count": 14,
     "metadata": {},
     "output_type": "execute_result"
    },
    {
     "data": {
      "image/png": "[encoded data removed]",
      "text/plain": [
       "<Figure size 432x288 with 1 Axes>"
      ]
     },
     "metadata": {
      "needs_background": "light"
     },
     "output_type": "display_data"
    }
   ],
   "source": [
    "#outlier treatment of wt\n",
    "\n",
    "lowerbound, upperbound = outlier_treatment(df.wt)\n",
    "\n",
    "print(\"Lowerbound = \",lowerbound)\n",
    "print(\"\\nUpperbound\",upperbound)\n",
    "\n",
    "df = df[df['wt']< upperbound]\n",
    "\n",
    "plt.boxplot(df.wt)"
   ]
  },
  {
   "cell_type": "code",
   "execution_count": 15,
   "metadata": {},
   "outputs": [
    {
     "name": "stdout",
     "output_type": "stream",
     "text": [
      "Lowerbound =  6.799999999999995\n",
      "\n",
      "Upperbound 32.400000000000006\n"
     ]
    },
    {
     "data": {
      "text/plain": [
       "{'whiskers': [<matplotlib.lines.Line2D at 0x2b03b325608>,\n",
       "  <matplotlib.lines.Line2D at 0x2b03b325dc8>],\n",
       " 'caps': [<matplotlib.lines.Line2D at 0x2b03b325f08>,\n",
       "  <matplotlib.lines.Line2D at 0x2b03b329d48>],\n",
       " 'boxes': [<matplotlib.lines.Line2D at 0x2b03b321b48>],\n",
       " 'medians': [<matplotlib.lines.Line2D at 0x2b03b329e88>],\n",
       " 'fliers': [<matplotlib.lines.Line2D at 0x2b03b32ecc8>],\n",
       " 'means': []}"
      ]
     },
     "execution_count": 15,
     "metadata": {},
     "output_type": "execute_result"
    },
    {
     "data": {
      "image/png": "[encoded data removed]",
      "text/plain": [
       "<Figure size 432x288 with 1 Axes>"
      ]
     },
     "metadata": {
      "needs_background": "light"
     },
     "output_type": "display_data"
    }
   ],
   "source": [
    "#outlier treatment of mpg\n",
    "\n",
    "lowerbound, upperbound = outlier_treatment(df.mpg)\n",
    "\n",
    "print(\"Lowerbound = \",lowerbound)\n",
    "print(\"\\nUpperbound\",upperbound)\n",
    "\n",
    "df = df[df['mpg']< upperbound]\n",
    "\n",
    "plt.boxplot(df.mpg)"
   ]
  },
  {
   "cell_type": "code",
   "execution_count": 21,
   "metadata": {},
   "outputs": [
    {
     "data": {
      "text/plain": [
       "0.7424468023730224"
      ]
     },
     "execution_count": 21,
     "metadata": {},
     "output_type": "execute_result"
    }
   ],
   "source": [
    "#post outlier treatment\n",
    "\n",
    "reg = LinearRegression().fit(X_train, y_train)\n",
    "\n",
    "# adjusted-rsquared value\n",
    "reg.score(X_test, y_test)"
   ]
  },
  {
   "cell_type": "markdown",
   "metadata": {},
   "source": [
    "### Conclusion\n",
    "\n",
    "Thus we conclude that after performing outlier detection and removing using IQR, we are improving the performance. The higher the adjusted R^2 better the regression equation as it implies that the independent variable is chosen to determine the dependent variable can explain the variation in the dependent variable."
   ]
  },
  {
   "cell_type": "code",
   "execution_count": null,
   "metadata": {},
   "outputs": [],
   "source": []
  }
 ],
 "metadata": {
  "kernelspec": {
   "display_name": "Python 3",
   "language": "python",
   "name": "python3"
  },
  "language_info": {
   "codemirror_mode": {
    "name": "ipython",
    "version": 3
   },
   "file_extension": ".py",
   "mimetype": "text/x-python",
   "name": "python",
   "nbconvert_exporter": "python",
   "pygments_lexer": "ipython3",
   "version": "3.7.4"
  }
 },
 "nbformat": 4,
 "nbformat_minor": 2
}
